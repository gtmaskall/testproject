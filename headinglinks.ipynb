{
 "cells": [
  {
   "cell_type": "markdown",
   "metadata": {},
   "source": [
    "# Contents"
   ]
  },
  {
   "cell_type": "markdown",
   "metadata": {},
   "source": [
    "# A main heading"
   ]
  },
  {
   "cell_type": "markdown",
   "metadata": {},
   "source": [
    "Can we jump to a desired heading? I want the [second heading](#2Asecondheading)"
   ]
  },
  {
   "cell_type": "markdown",
   "metadata": {},
   "source": [
    "We want to jump to [hello world](#helloworld) from here."
   ]
  },
  {
   "cell_type": "markdown",
   "metadata": {},
   "source": [
    "## A sub heading 1"
   ]
  },
  {
   "cell_type": "markdown",
   "metadata": {},
   "source": [
    "I'll type some text. La la la la la\n",
    "\n",
    "Paragraph 2\n",
    "\n",
    "Paragraph 3\n",
    "\n",
    "Paragraph 4\n",
    "\n",
    "Paragraph 5\n",
    "\n",
    "Some interesting text\n",
    "\n",
    "Bullet points:\n",
    "* a point\n",
    "* another point\n",
    "* another point\n",
    "* another point\n",
    "* another point\n",
    "* not the final point\n",
    "* still not the final point\n",
    "* keep going\n",
    "* and going\n",
    "* on\n",
    "* and\n",
    "* on\n",
    "* and\n",
    "* on\n",
    "* and\n",
    "* on\n",
    "* and\n",
    "* on\n",
    "* okay I give up\n",
    "\n",
    "Let's have another paragraph!"
   ]
  },
  {
   "cell_type": "markdown",
   "metadata": {},
   "source": [
    "# A second heading<a id='2Asecondheading'></a>"
   ]
  },
  {
   "cell_type": "markdown",
   "metadata": {},
   "source": [
    "More text.\n",
    "\n",
    "Hello world.<a id='helloworld'></a>\n",
    "\n",
    "Again."
   ]
  },
  {
   "cell_type": "code",
   "execution_count": null,
   "metadata": {},
   "outputs": [],
   "source": []
  }
 ],
 "metadata": {
  "kernelspec": {
   "display_name": "Python 3",
   "language": "python",
   "name": "python3"
  },
  "language_info": {
   "codemirror_mode": {
    "name": "ipython",
    "version": 3
   },
   "file_extension": ".py",
   "mimetype": "text/x-python",
   "name": "python",
   "nbconvert_exporter": "python",
   "pygments_lexer": "ipython3",
   "version": "3.7.7"
  }
 },
 "nbformat": 4,
 "nbformat_minor": 4
}
